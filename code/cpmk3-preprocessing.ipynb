{
 "cells": [
  {
   "cell_type": "code",
   "execution_count": 6,
   "id": "0dbd43ef",
   "metadata": {},
   "outputs": [
    {
     "name": "stdout",
     "output_type": "stream",
     "text": [
      "✅ File 'hasil_preprocessing.csv' berhasil dibuat!\n"
     ]
    }
   ],
   "source": [
    "import re\n",
    "import unicodedata\n",
    "import pandas as pd\n",
    "from Sastrawi.Stemmer.StemmerFactory import StemmerFactory\n",
    "from Sastrawi.StopWordRemover.StopWordRemoverFactory import StopWordRemoverFactory\n",
    "\n",
    "# ===============================\n",
    "# 1. Case Folding\n",
    "# ===============================\n",
    "def case_folding(teks: str) -> str:\n",
    "    if teks is None:\n",
    "        return \"\"\n",
    "    teks = unicodedata.normalize(\"NFC\", teks)\n",
    "    teks = teks.casefold()\n",
    "    teks = re.sub(r\"[^\\w\\s]\", \" \", teks)  # hilangkan tanda baca\n",
    "    teks = re.sub(r\"\\s+\", \" \", teks).strip()  # rapikan spasi\n",
    "    return teks\n",
    "\n",
    "# ===============================\n",
    "# 2. Parsing\n",
    "# ===============================\n",
    "def parsing(teks: str):\n",
    "    return re.findall(r\"\\b\\w+\\b\", teks)\n",
    "\n",
    "# ===============================\n",
    "# 3. Stemming\n",
    "# ===============================\n",
    "factory = StemmerFactory()\n",
    "stemmer = factory.create_stemmer()\n",
    "\n",
    "def stemming(tokens):\n",
    "    return [stemmer.stem(token) for token in tokens]\n",
    "\n",
    "# ===============================\n",
    "# 4. Stopword Removal\n",
    "# ===============================\n",
    "stop_factory = StopWordRemoverFactory()\n",
    "stopword_list = set(stop_factory.get_stop_words())\n",
    "\n",
    "def stopword_removal(tokens):\n",
    "    return [token for token in tokens if token not in stopword_list]\n",
    "\n",
    "# ===============================\n",
    "# 5. Baca Dataset\n",
    "# ===============================\n",
    "file_path = \"../dataset_youtube_comment.csv\"  # pastikan file ini ada\n",
    "df_input = pd.read_csv(file_path)\n",
    "\n",
    "# ===============================\n",
    "# 6. Proses Preprocessing\n",
    "# ===============================\n",
    "hasil_comment = []\n",
    "\n",
    "for teks in df_input[\"Comment\"]:\n",
    "    teks_cf = case_folding(teks)\n",
    "    tokens = parsing(teks_cf)\n",
    "    tokens_stemmed = stemming(tokens)\n",
    "    tokens_filtered = stopword_removal(tokens_stemmed)\n",
    "    teks_final = \" \".join(tokens_filtered)\n",
    "    hasil_comment.append(teks_final)\n",
    "\n",
    "# ===============================\n",
    "# 7. Ganti kolom Comment\n",
    "# ===============================\n",
    "df_input[\"Comment\"] = hasil_comment\n",
    "\n",
    "# ===============================\n",
    "# 8. Simpan ke CSV\n",
    "# ===============================\n",
    "output_file = \"hasil_preprocessing.csv\"\n",
    "df_input.to_csv(output_file, index=False)\n",
    "print(f\"✅ File '{output_file}' berhasil dibuat!\")\n"
   ]
  }
 ],
 "metadata": {
  "kernelspec": {
   "display_name": "Python 3",
   "language": "python",
   "name": "python3"
  },
  "language_info": {
   "codemirror_mode": {
    "name": "ipython",
    "version": 3
   },
   "file_extension": ".py",
   "mimetype": "text/x-python",
   "name": "python",
   "nbconvert_exporter": "python",
   "pygments_lexer": "ipython3",
   "version": "3.13.5"
  }
 },
 "nbformat": 4,
 "nbformat_minor": 5
}
